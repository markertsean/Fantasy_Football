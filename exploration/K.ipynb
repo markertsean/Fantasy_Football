{
 "cells": [
  {
   "cell_type": "code",
   "execution_count": 1,
   "metadata": {
    "collapsed": false
   },
   "outputs": [],
   "source": [
    "import numpy as np\n",
    "import matplotlib.pyplot as plt\n",
    "import pandas as pd\n",
    "\n",
    "from scipy.stats import boxcox\n",
    "\n",
    "from imp import load_source\n",
    "\n",
    "from sklearn.decomposition import PCA\n",
    "\n",
    "import aggregate_player_stats as aps\n",
    "\n",
    "query_strings = load_source('query_strings', '../stats_generation/query_strings.py' )\n",
    "gps = load_source(  'generate_player_stats', '../stats_generation/generate_player_stats.py' )"
   ]
  },
  {
   "cell_type": "code",
   "execution_count": 2,
   "metadata": {
    "collapsed": false
   },
   "outputs": [],
   "source": [
    "%matplotlib inline\n",
    "plt.style.use('dark_background')\n",
    "from pylab import rcParams\n",
    "rcParams['figure.figsize'] = 14, 10"
   ]
  },
  {
   "cell_type": "code",
   "execution_count": null,
   "metadata": {
    "collapsed": true
   },
   "outputs": [],
   "source": []
  },
  {
   "cell_type": "markdown",
   "metadata": {},
   "source": [
    "First generate stuff for the whole team"
   ]
  },
  {
   "cell_type": "code",
   "execution_count": 3,
   "metadata": {
    "collapsed": false
   },
   "outputs": [],
   "source": [
    "team_stats_df = aps.generate_full_team_aggregate( 2017 )"
   ]
  },
  {
   "cell_type": "code",
   "execution_count": null,
   "metadata": {
    "collapsed": true
   },
   "outputs": [],
   "source": []
  },
  {
   "cell_type": "markdown",
   "metadata": {},
   "source": [
    "Next, generate kicker statistics"
   ]
  },
  {
   "cell_type": "code",
   "execution_count": 11,
   "metadata": {
    "collapsed": false
   },
   "outputs": [],
   "source": [
    "n_weeks = 4\n",
    "\n",
    "all_kicker_data = pd.DataFrame()\n",
    "\n",
    "# Get all the team preseason data\n",
    "# Can id by team, week, year\n",
    "for year in range( 2009, 2017 ):\n",
    "    new_frame = gps.generate_stats( 'K', year, season_type='Preseason' )\n",
    "    new_frame['year'] = year\n",
    "    all_kicker_data = pd.concat( [all_kicker_data, new_frame], ignore_index=True )\n",
    "\n",
    "all_kicker_data['week'] = all_kicker_data['week']-4\n",
    "    \n",
    "# Get all the Kicker regular season data\n",
    "# Can id by team, week, year\n",
    "for year in range( 2009, 2017 ):\n",
    "    new_frame = gps.generate_stats( 'K', year )\n",
    "    new_frame['year'] = year\n",
    "    all_kicker_data = pd.concat( [all_kicker_data, new_frame], ignore_index=True )\n",
    "    \n",
    "# Ignore some team stuff, can get from joining with team\n",
    "all_kicker_data = all_kicker_data.drop( ['opp_team','home_flag','away_flag','xp_made','xp_miss'],axis=1 )\n",
    "\n",
    "# Generate previous rolling sum\n",
    "prev_kick = aps.calc_prev_player_stats( all_kicker_data, ['fg_made','fg_miss','fg_made_yds','fg_miss_yds','fg_made_max'] )\n",
    "\n",
    "# Combine present values with rolling sums\n",
    "all_kicker_data = pd.merge( all_kicker_data, prev_kick, on=['player_id','team','year','week'] )\n",
    "\n",
    "# Drop all the preseason stuff\n",
    "all_kicker_data = all_kicker_data.loc[ all_kicker_data['week']>0 ]\n",
    "\n",
    "# Note if the data includes preseason stuff\n",
    "# If the first four games, flag as preseason data included\n",
    "# This is tricky, as can have a bye-week\n",
    "# Therefore, group things, find the first n_weeks, and flag those as 1\n",
    "inds = all_kicker_data.groupby(['player_id','year'], as_index=False).nth( range(0, n_weeks) ).index.values\n",
    "\n",
    "all_kicker_data    [       'few_reg_weeks'] = 0\n",
    "all_kicker_data.loc[ inds, 'few_reg_weeks'] = 1"
   ]
  },
  {
   "cell_type": "code",
   "execution_count": 12,
   "metadata": {
    "collapsed": false
   },
   "outputs": [
    {
     "data": {
      "text/html": [
       "<div>\n",
       "<style>\n",
       "    .dataframe thead tr:only-child th {\n",
       "        text-align: right;\n",
       "    }\n",
       "\n",
       "    .dataframe thead th {\n",
       "        text-align: left;\n",
       "    }\n",
       "\n",
       "    .dataframe tbody tr th {\n",
       "        vertical-align: top;\n",
       "    }\n",
       "</style>\n",
       "<table border=\"1\" class=\"dataframe\">\n",
       "  <thead>\n",
       "    <tr style=\"text-align: right;\">\n",
       "      <th></th>\n",
       "      <th>player_id</th>\n",
       "      <th>team</th>\n",
       "      <th>week</th>\n",
       "      <th>fg_made</th>\n",
       "      <th>fg_miss</th>\n",
       "      <th>fg_made_yds</th>\n",
       "      <th>fg_miss_yds</th>\n",
       "      <th>fg_made_max</th>\n",
       "      <th>fg_miss_min</th>\n",
       "      <th>year</th>\n",
       "      <th>fg_made_prev_4</th>\n",
       "      <th>fg_miss_prev_4</th>\n",
       "      <th>fg_made_yds_prev_4</th>\n",
       "      <th>fg_miss_yds_prev_4</th>\n",
       "      <th>fg_made_max_prev_4</th>\n",
       "      <th>few_reg_weeks</th>\n",
       "    </tr>\n",
       "  </thead>\n",
       "  <tbody>\n",
       "    <tr>\n",
       "      <th>688</th>\n",
       "      <td>00-0004091</td>\n",
       "      <td>CLE</td>\n",
       "      <td>1</td>\n",
       "      <td>2</td>\n",
       "      <td>0</td>\n",
       "      <td>57</td>\n",
       "      <td>0</td>\n",
       "      <td>37</td>\n",
       "      <td>NaN</td>\n",
       "      <td>2009</td>\n",
       "      <td>8.0</td>\n",
       "      <td>1.0</td>\n",
       "      <td>259.0</td>\n",
       "      <td>41.0</td>\n",
       "      <td>121.0</td>\n",
       "      <td>1</td>\n",
       "    </tr>\n",
       "    <tr>\n",
       "      <th>689</th>\n",
       "      <td>00-0004091</td>\n",
       "      <td>CLE</td>\n",
       "      <td>2</td>\n",
       "      <td>2</td>\n",
       "      <td>0</td>\n",
       "      <td>69</td>\n",
       "      <td>0</td>\n",
       "      <td>47</td>\n",
       "      <td>NaN</td>\n",
       "      <td>2009</td>\n",
       "      <td>10.0</td>\n",
       "      <td>0.0</td>\n",
       "      <td>316.0</td>\n",
       "      <td>0.0</td>\n",
       "      <td>158.0</td>\n",
       "      <td>1</td>\n",
       "    </tr>\n",
       "    <tr>\n",
       "      <th>690</th>\n",
       "      <td>00-0004091</td>\n",
       "      <td>CLE</td>\n",
       "      <td>8</td>\n",
       "      <td>0</td>\n",
       "      <td>0</td>\n",
       "      <td>0</td>\n",
       "      <td>0</td>\n",
       "      <td>0</td>\n",
       "      <td>NaN</td>\n",
       "      <td>2009</td>\n",
       "      <td>10.0</td>\n",
       "      <td>0.0</td>\n",
       "      <td>318.0</td>\n",
       "      <td>0.0</td>\n",
       "      <td>171.0</td>\n",
       "      <td>1</td>\n",
       "    </tr>\n",
       "    <tr>\n",
       "      <th>691</th>\n",
       "      <td>00-0004091</td>\n",
       "      <td>CLE</td>\n",
       "      <td>10</td>\n",
       "      <td>0</td>\n",
       "      <td>0</td>\n",
       "      <td>0</td>\n",
       "      <td>0</td>\n",
       "      <td>0</td>\n",
       "      <td>NaN</td>\n",
       "      <td>2009</td>\n",
       "      <td>7.0</td>\n",
       "      <td>0.0</td>\n",
       "      <td>229.0</td>\n",
       "      <td>0.0</td>\n",
       "      <td>134.0</td>\n",
       "      <td>1</td>\n",
       "    </tr>\n",
       "    <tr>\n",
       "      <th>692</th>\n",
       "      <td>00-0004091</td>\n",
       "      <td>CLE</td>\n",
       "      <td>11</td>\n",
       "      <td>2</td>\n",
       "      <td>0</td>\n",
       "      <td>73</td>\n",
       "      <td>0</td>\n",
       "      <td>44</td>\n",
       "      <td>NaN</td>\n",
       "      <td>2009</td>\n",
       "      <td>4.0</td>\n",
       "      <td>0.0</td>\n",
       "      <td>126.0</td>\n",
       "      <td>0.0</td>\n",
       "      <td>84.0</td>\n",
       "      <td>0</td>\n",
       "    </tr>\n",
       "    <tr>\n",
       "      <th>693</th>\n",
       "      <td>00-0004091</td>\n",
       "      <td>CLE</td>\n",
       "      <td>12</td>\n",
       "      <td>0</td>\n",
       "      <td>0</td>\n",
       "      <td>0</td>\n",
       "      <td>0</td>\n",
       "      <td>0</td>\n",
       "      <td>NaN</td>\n",
       "      <td>2009</td>\n",
       "      <td>4.0</td>\n",
       "      <td>0.0</td>\n",
       "      <td>142.0</td>\n",
       "      <td>0.0</td>\n",
       "      <td>91.0</td>\n",
       "      <td>0</td>\n",
       "    </tr>\n",
       "    <tr>\n",
       "      <th>694</th>\n",
       "      <td>00-0004091</td>\n",
       "      <td>CLE</td>\n",
       "      <td>13</td>\n",
       "      <td>1</td>\n",
       "      <td>1</td>\n",
       "      <td>49</td>\n",
       "      <td>43</td>\n",
       "      <td>49</td>\n",
       "      <td>43.0</td>\n",
       "      <td>2009</td>\n",
       "      <td>2.0</td>\n",
       "      <td>0.0</td>\n",
       "      <td>73.0</td>\n",
       "      <td>0.0</td>\n",
       "      <td>44.0</td>\n",
       "      <td>0</td>\n",
       "    </tr>\n",
       "    <tr>\n",
       "      <th>695</th>\n",
       "      <td>00-0004091</td>\n",
       "      <td>CLE</td>\n",
       "      <td>14</td>\n",
       "      <td>2</td>\n",
       "      <td>0</td>\n",
       "      <td>58</td>\n",
       "      <td>0</td>\n",
       "      <td>29</td>\n",
       "      <td>NaN</td>\n",
       "      <td>2009</td>\n",
       "      <td>3.0</td>\n",
       "      <td>1.0</td>\n",
       "      <td>122.0</td>\n",
       "      <td>43.0</td>\n",
       "      <td>93.0</td>\n",
       "      <td>0</td>\n",
       "    </tr>\n",
       "    <tr>\n",
       "      <th>696</th>\n",
       "      <td>00-0004091</td>\n",
       "      <td>CLE</td>\n",
       "      <td>15</td>\n",
       "      <td>2</td>\n",
       "      <td>1</td>\n",
       "      <td>77</td>\n",
       "      <td>52</td>\n",
       "      <td>47</td>\n",
       "      <td>52.0</td>\n",
       "      <td>2009</td>\n",
       "      <td>5.0</td>\n",
       "      <td>1.0</td>\n",
       "      <td>180.0</td>\n",
       "      <td>43.0</td>\n",
       "      <td>122.0</td>\n",
       "      <td>0</td>\n",
       "    </tr>\n",
       "    <tr>\n",
       "      <th>697</th>\n",
       "      <td>00-0004091</td>\n",
       "      <td>CLE</td>\n",
       "      <td>16</td>\n",
       "      <td>3</td>\n",
       "      <td>0</td>\n",
       "      <td>109</td>\n",
       "      <td>0</td>\n",
       "      <td>42</td>\n",
       "      <td>NaN</td>\n",
       "      <td>2009</td>\n",
       "      <td>5.0</td>\n",
       "      <td>2.0</td>\n",
       "      <td>184.0</td>\n",
       "      <td>95.0</td>\n",
       "      <td>125.0</td>\n",
       "      <td>0</td>\n",
       "    </tr>\n",
       "    <tr>\n",
       "      <th>698</th>\n",
       "      <td>00-0004091</td>\n",
       "      <td>CLE</td>\n",
       "      <td>17</td>\n",
       "      <td>3</td>\n",
       "      <td>0</td>\n",
       "      <td>81</td>\n",
       "      <td>0</td>\n",
       "      <td>33</td>\n",
       "      <td>NaN</td>\n",
       "      <td>2009</td>\n",
       "      <td>8.0</td>\n",
       "      <td>2.0</td>\n",
       "      <td>293.0</td>\n",
       "      <td>95.0</td>\n",
       "      <td>167.0</td>\n",
       "      <td>0</td>\n",
       "    </tr>\n",
       "    <tr>\n",
       "      <th>699</th>\n",
       "      <td>00-0016919</td>\n",
       "      <td>IND</td>\n",
       "      <td>1</td>\n",
       "      <td>0</td>\n",
       "      <td>1</td>\n",
       "      <td>0</td>\n",
       "      <td>52</td>\n",
       "      <td>0</td>\n",
       "      <td>52.0</td>\n",
       "      <td>2009</td>\n",
       "      <td>NaN</td>\n",
       "      <td>NaN</td>\n",
       "      <td>NaN</td>\n",
       "      <td>NaN</td>\n",
       "      <td>NaN</td>\n",
       "      <td>1</td>\n",
       "    </tr>\n",
       "    <tr>\n",
       "      <th>700</th>\n",
       "      <td>00-0016919</td>\n",
       "      <td>IND</td>\n",
       "      <td>2</td>\n",
       "      <td>2</td>\n",
       "      <td>0</td>\n",
       "      <td>91</td>\n",
       "      <td>0</td>\n",
       "      <td>48</td>\n",
       "      <td>NaN</td>\n",
       "      <td>2009</td>\n",
       "      <td>NaN</td>\n",
       "      <td>NaN</td>\n",
       "      <td>NaN</td>\n",
       "      <td>NaN</td>\n",
       "      <td>NaN</td>\n",
       "      <td>1</td>\n",
       "    </tr>\n",
       "    <tr>\n",
       "      <th>701</th>\n",
       "      <td>00-0016919</td>\n",
       "      <td>IND</td>\n",
       "      <td>3</td>\n",
       "      <td>1</td>\n",
       "      <td>1</td>\n",
       "      <td>26</td>\n",
       "      <td>32</td>\n",
       "      <td>26</td>\n",
       "      <td>32.0</td>\n",
       "      <td>2009</td>\n",
       "      <td>NaN</td>\n",
       "      <td>NaN</td>\n",
       "      <td>NaN</td>\n",
       "      <td>NaN</td>\n",
       "      <td>NaN</td>\n",
       "      <td>1</td>\n",
       "    </tr>\n",
       "    <tr>\n",
       "      <th>702</th>\n",
       "      <td>00-0016919</td>\n",
       "      <td>IND</td>\n",
       "      <td>4</td>\n",
       "      <td>2</td>\n",
       "      <td>0</td>\n",
       "      <td>56</td>\n",
       "      <td>0</td>\n",
       "      <td>37</td>\n",
       "      <td>NaN</td>\n",
       "      <td>2009</td>\n",
       "      <td>3.0</td>\n",
       "      <td>3.0</td>\n",
       "      <td>117.0</td>\n",
       "      <td>132.0</td>\n",
       "      <td>74.0</td>\n",
       "      <td>1</td>\n",
       "    </tr>\n",
       "    <tr>\n",
       "      <th>703</th>\n",
       "      <td>00-0016919</td>\n",
       "      <td>IND</td>\n",
       "      <td>5</td>\n",
       "      <td>1</td>\n",
       "      <td>0</td>\n",
       "      <td>23</td>\n",
       "      <td>0</td>\n",
       "      <td>23</td>\n",
       "      <td>NaN</td>\n",
       "      <td>2009</td>\n",
       "      <td>5.0</td>\n",
       "      <td>2.0</td>\n",
       "      <td>173.0</td>\n",
       "      <td>84.0</td>\n",
       "      <td>111.0</td>\n",
       "      <td>0</td>\n",
       "    </tr>\n",
       "    <tr>\n",
       "      <th>704</th>\n",
       "      <td>00-0016919</td>\n",
       "      <td>IND</td>\n",
       "      <td>16</td>\n",
       "      <td>1</td>\n",
       "      <td>0</td>\n",
       "      <td>22</td>\n",
       "      <td>0</td>\n",
       "      <td>22</td>\n",
       "      <td>NaN</td>\n",
       "      <td>2009</td>\n",
       "      <td>6.0</td>\n",
       "      <td>1.0</td>\n",
       "      <td>196.0</td>\n",
       "      <td>32.0</td>\n",
       "      <td>134.0</td>\n",
       "      <td>0</td>\n",
       "    </tr>\n",
       "    <tr>\n",
       "      <th>705</th>\n",
       "      <td>00-0019646</td>\n",
       "      <td>OAK</td>\n",
       "      <td>1</td>\n",
       "      <td>2</td>\n",
       "      <td>0</td>\n",
       "      <td>72</td>\n",
       "      <td>0</td>\n",
       "      <td>37</td>\n",
       "      <td>NaN</td>\n",
       "      <td>2009</td>\n",
       "      <td>1.0</td>\n",
       "      <td>0.0</td>\n",
       "      <td>23.0</td>\n",
       "      <td>0.0</td>\n",
       "      <td>23.0</td>\n",
       "      <td>1</td>\n",
       "    </tr>\n",
       "    <tr>\n",
       "      <th>706</th>\n",
       "      <td>00-0019646</td>\n",
       "      <td>OAK</td>\n",
       "      <td>2</td>\n",
       "      <td>2</td>\n",
       "      <td>0</td>\n",
       "      <td>102</td>\n",
       "      <td>0</td>\n",
       "      <td>54</td>\n",
       "      <td>NaN</td>\n",
       "      <td>2009</td>\n",
       "      <td>2.0</td>\n",
       "      <td>0.0</td>\n",
       "      <td>72.0</td>\n",
       "      <td>0.0</td>\n",
       "      <td>37.0</td>\n",
       "      <td>1</td>\n",
       "    </tr>\n",
       "    <tr>\n",
       "      <th>707</th>\n",
       "      <td>00-0019646</td>\n",
       "      <td>OAK</td>\n",
       "      <td>3</td>\n",
       "      <td>1</td>\n",
       "      <td>0</td>\n",
       "      <td>48</td>\n",
       "      <td>0</td>\n",
       "      <td>48</td>\n",
       "      <td>NaN</td>\n",
       "      <td>2009</td>\n",
       "      <td>4.0</td>\n",
       "      <td>0.0</td>\n",
       "      <td>174.0</td>\n",
       "      <td>0.0</td>\n",
       "      <td>91.0</td>\n",
       "      <td>1</td>\n",
       "    </tr>\n",
       "  </tbody>\n",
       "</table>\n",
       "</div>"
      ],
      "text/plain": [
       "      player_id team  week  fg_made  fg_miss  fg_made_yds  fg_miss_yds  \\\n",
       "688  00-0004091  CLE     1        2        0           57            0   \n",
       "689  00-0004091  CLE     2        2        0           69            0   \n",
       "690  00-0004091  CLE     8        0        0            0            0   \n",
       "691  00-0004091  CLE    10        0        0            0            0   \n",
       "692  00-0004091  CLE    11        2        0           73            0   \n",
       "693  00-0004091  CLE    12        0        0            0            0   \n",
       "694  00-0004091  CLE    13        1        1           49           43   \n",
       "695  00-0004091  CLE    14        2        0           58            0   \n",
       "696  00-0004091  CLE    15        2        1           77           52   \n",
       "697  00-0004091  CLE    16        3        0          109            0   \n",
       "698  00-0004091  CLE    17        3        0           81            0   \n",
       "699  00-0016919  IND     1        0        1            0           52   \n",
       "700  00-0016919  IND     2        2        0           91            0   \n",
       "701  00-0016919  IND     3        1        1           26           32   \n",
       "702  00-0016919  IND     4        2        0           56            0   \n",
       "703  00-0016919  IND     5        1        0           23            0   \n",
       "704  00-0016919  IND    16        1        0           22            0   \n",
       "705  00-0019646  OAK     1        2        0           72            0   \n",
       "706  00-0019646  OAK     2        2        0          102            0   \n",
       "707  00-0019646  OAK     3        1        0           48            0   \n",
       "\n",
       "     fg_made_max  fg_miss_min  year  fg_made_prev_4  fg_miss_prev_4  \\\n",
       "688           37          NaN  2009             8.0             1.0   \n",
       "689           47          NaN  2009            10.0             0.0   \n",
       "690            0          NaN  2009            10.0             0.0   \n",
       "691            0          NaN  2009             7.0             0.0   \n",
       "692           44          NaN  2009             4.0             0.0   \n",
       "693            0          NaN  2009             4.0             0.0   \n",
       "694           49         43.0  2009             2.0             0.0   \n",
       "695           29          NaN  2009             3.0             1.0   \n",
       "696           47         52.0  2009             5.0             1.0   \n",
       "697           42          NaN  2009             5.0             2.0   \n",
       "698           33          NaN  2009             8.0             2.0   \n",
       "699            0         52.0  2009             NaN             NaN   \n",
       "700           48          NaN  2009             NaN             NaN   \n",
       "701           26         32.0  2009             NaN             NaN   \n",
       "702           37          NaN  2009             3.0             3.0   \n",
       "703           23          NaN  2009             5.0             2.0   \n",
       "704           22          NaN  2009             6.0             1.0   \n",
       "705           37          NaN  2009             1.0             0.0   \n",
       "706           54          NaN  2009             2.0             0.0   \n",
       "707           48          NaN  2009             4.0             0.0   \n",
       "\n",
       "     fg_made_yds_prev_4  fg_miss_yds_prev_4  fg_made_max_prev_4  few_reg_weeks  \n",
       "688               259.0                41.0               121.0              1  \n",
       "689               316.0                 0.0               158.0              1  \n",
       "690               318.0                 0.0               171.0              1  \n",
       "691               229.0                 0.0               134.0              1  \n",
       "692               126.0                 0.0                84.0              0  \n",
       "693               142.0                 0.0                91.0              0  \n",
       "694                73.0                 0.0                44.0              0  \n",
       "695               122.0                43.0                93.0              0  \n",
       "696               180.0                43.0               122.0              0  \n",
       "697               184.0                95.0               125.0              0  \n",
       "698               293.0                95.0               167.0              0  \n",
       "699                 NaN                 NaN                 NaN              1  \n",
       "700                 NaN                 NaN                 NaN              1  \n",
       "701                 NaN                 NaN                 NaN              1  \n",
       "702               117.0               132.0                74.0              1  \n",
       "703               173.0                84.0               111.0              0  \n",
       "704               196.0                32.0               134.0              0  \n",
       "705                23.0                 0.0                23.0              1  \n",
       "706                72.0                 0.0                37.0              1  \n",
       "707               174.0                 0.0                91.0              1  "
      ]
     },
     "execution_count": 12,
     "metadata": {},
     "output_type": "execute_result"
    }
   ],
   "source": [
    "all_kicker_data.head(20)"
   ]
  },
  {
   "cell_type": "code",
   "execution_count": null,
   "metadata": {
    "collapsed": true
   },
   "outputs": [],
   "source": []
  },
  {
   "cell_type": "code",
   "execution_count": 19,
   "metadata": {
    "collapsed": true
   },
   "outputs": [
    {
     "data": {
      "image/png": "[encoded data removed]",
      "text/plain": [
       "<matplotlib.figure.Figure at 0x7f67e164d110>"
      ]
     },
     "metadata": {},
     "output_type": "display_data"
    },
    {
     "data": {
      "image/png": "[encoded data removed]",
      "text/plain": [
       "<matplotlib.figure.Figure at 0x7f67e14b9a50>"
      ]
     },
     "metadata": {},
     "output_type": "display_data"
    },
    {
     "data": {
      "image/png": "[encoded data removed]",
      "text/plain": [
       "<matplotlib.figure.Figure at 0x7f67e1579750>"
      ]
     },
     "metadata": {},
     "output_type": "display_data"
    },
    {
     "data": {
      "image/png": "[encoded data removed]",
      "text/plain": [
       "<matplotlib.figure.Figure at 0x7f67e1448890>"
      ]
     },
     "metadata": {},
     "output_type": "display_data"
    },
    {
     "data": {
      "image/png": "[encoded data removed]",
      "text/plain": [
       "<matplotlib.figure.Figure at 0x7f67e5083bd0>"
      ]
     },
     "metadata": {},
     "output_type": "display_data"
    },
    {
     "data": {
      "image/png": "[encoded data removed]",
      "text/plain": [
       "<matplotlib.figure.Figure at 0x7f67e17ef4d0>"
      ]
     },
     "metadata": {},
     "output_type": "display_data"
    },
    {
     "data": {
      "image/png": "[encoded data removed]",
      "text/plain": [
       "<matplotlib.figure.Figure at 0x7f67e17bca90>"
      ]
     },
     "metadata": {},
     "output_type": "display_data"
    },
    {
     "data": {
      "image/png": "[encoded data removed]",
      "text/plain": [
       "<matplotlib.figure.Figure at 0x7f67e1899e50>"
      ]
     },
     "metadata": {},
     "output_type": "display_data"
    },
    {
     "data": {
      "image/png": "[encoded data removed]",
      "text/plain": [
       "<matplotlib.figure.Figure at 0x7f67e13ba610>"
      ]
     },
     "metadata": {},
     "output_type": "display_data"
    },
    {
     "data": {
      "image/png": "[encoded data removed]",
      "text/plain": [
       "<matplotlib.figure.Figure at 0x7f67e16bc890>"
      ]
     },
     "metadata": {},
     "output_type": "display_data"
    },
    {
     "data": {
      "image/png": "[encoded data removed]",
      "text/plain": [
       "<matplotlib.figure.Figure at 0x7f67e13bf1d0>"
      ]
     },
     "metadata": {},
     "output_type": "display_data"
    }
   ],
   "source": [
    "foo = all_kicker_data.drop(['player_id','team','week','year'],axis=1).copy()\n",
    "\n",
    "foo['fg_made_yds_avg'  ] = foo['fg_made_yds'    ] / foo['fg_made']\n",
    "foo['fg_made_minus_avg'] = foo['fg_made_max'    ] - foo['fg_made_yds_avg']\n",
    "foo['fg_avg_minus_miss'] = foo['fg_made_yds_avg'] - foo['fg_miss_min']\n",
    "\n",
    "for col in foo.columns.values:\n",
    "    foo[col].plot.hist( bins=15, title=col )\n",
    "    plt.show()"
   ]
  },
  {
   "cell_type": "markdown",
   "metadata": {},
   "source": [
    "5 pts per 50+ yard FG made\n",
    "\n",
    "4 pts per 40-49 yard FG made\n",
    "\n",
    "3 pts per FG made, 39 yards or less\n",
    "\n",
    "2 pts per rushing, passing, or receiving 2 pt conversion\n",
    "\n",
    "1 pt per Extra Point made\n",
    "\n",
    "Penalty Points\n",
    "\n",
    "-2 pts per missed FG (0-39 yds)\n",
    "\n",
    "-1 pt per missed FG (40-49 yds)\n",
    "\n",
    "(note: a missed FG includes any attempt that is blocked, deflected, etc.)"
   ]
  },
  {
   "cell_type": "code",
   "execution_count": null,
   "metadata": {
    "collapsed": true
   },
   "outputs": [],
   "source": []
  },
  {
   "cell_type": "code",
   "execution_count": 6,
   "metadata": {
    "collapsed": false
   },
   "outputs": [
    {
     "name": "stdout",
     "output_type": "stream",
     "text": [
      "5564\n",
      "138\n"
     ]
    }
   ],
   "source": [
    "print all_kicker_data.loc[all_kicker_data['xp_made']>0]['xp_made'].sum()\n",
    "print all_kicker_data.loc[all_kicker_data['xp_miss']>0]['xp_miss'].sum()"
   ]
  },
  {
   "cell_type": "markdown",
   "metadata": {},
   "source": [
    "Ignore xp stuff, it's easy enough to get. Just predict from team's touchdowns"
   ]
  },
  {
   "cell_type": "code",
   "execution_count": null,
   "metadata": {
    "collapsed": true
   },
   "outputs": [],
   "source": []
  },
  {
   "cell_type": "code",
   "execution_count": 7,
   "metadata": {
    "collapsed": false
   },
   "outputs": [
    {
     "name": "stdout",
     "output_type": "stream",
     "text": [
      "(443, 13)\n",
      "(2154, 13)\n"
     ]
    }
   ],
   "source": [
    "print all_kicker_data.loc[all_kicker_data['fg_made_max']>=50].shape\n",
    "print all_kicker_data.loc[all_kicker_data['fg_made_max']< 50].shape"
   ]
  },
  {
   "cell_type": "code",
   "execution_count": 14,
   "metadata": {
    "collapsed": false
   },
   "outputs": [
    {
     "name": "stdout",
     "output_type": "stream",
     "text": [
      "(1901, 12)\n",
      "(696, 12)\n"
     ]
    }
   ],
   "source": [
    "print all_kicker_data.loc[all_kicker_data['fg_miss_min'].isnull()].shape\n",
    "print all_kicker_data.loc[all_kicker_data['fg_miss_min'].notnull()].shape"
   ]
  },
  {
   "cell_type": "markdown",
   "metadata": {},
   "source": [
    "Should handle carfully. \n",
    "\n",
    "Consider timeframes to store min/max?\n",
    "\n",
    "Measure relative to avg yardage?"
   ]
  },
  {
   "cell_type": "code",
   "execution_count": null,
   "metadata": {
    "collapsed": true
   },
   "outputs": [],
   "source": []
  },
  {
   "cell_type": "code",
   "execution_count": 6,
   "metadata": {
    "collapsed": false
   },
   "outputs": [
    {
     "data": {
      "text/plain": [
       "array([u'team', 'opp_team', u'week', 'year', 'score', 'opp_score',\n",
       "       'home_flag', 'away_flag', 'tds', u'rush_att', u'rush_yds',\n",
       "       u'pass_att', u'pass_yds', u'pass_cmp', u'pass_sack', u'kickoffs',\n",
       "       u'punts', u'fg_miss', u'off_fumb_tot', u'kickoff_in_20',\n",
       "       u'kickoff_touchback', u'fg_yds', u'fg_made', u'def_int_tds',\n",
       "       u'def_frec_tds', u'def_misc_tds', u'def_safety', u'def_tkl',\n",
       "       u'def_tkl_contributers', u'def_fumb_forced', u'def_int',\n",
       "       u'def_tkl_loss', u'def_sack', u'def_pass_def', 'score_prev_4',\n",
       "       'opp_score_prev_4', 'home_flag_prev_4', 'away_flag_prev_4',\n",
       "       'tds_prev_4', 'rush_att_prev_4', 'rush_yds_prev_4',\n",
       "       'pass_att_prev_4', 'pass_yds_prev_4', 'pass_cmp_prev_4',\n",
       "       'pass_sack_prev_4', 'kickoffs_prev_4', 'punts_prev_4',\n",
       "       'fg_miss_prev_4', 'off_fumb_tot_prev_4', 'kickoff_in_20_prev_4',\n",
       "       'kickoff_touchback_prev_4', 'fg_yds_prev_4', 'fg_made_prev_4',\n",
       "       'def_int_tds_prev_4', 'def_frec_tds_prev_4', 'def_misc_tds_prev_4',\n",
       "       'def_safety_prev_4', 'def_tkl_prev_4',\n",
       "       'def_tkl_contributers_prev_4', 'def_fumb_forced_prev_4',\n",
       "       'def_int_prev_4', 'def_tkl_loss_prev_4', 'def_sack_prev_4',\n",
       "       'def_pass_def_prev_4', 'includes_preseason'], dtype=object)"
      ]
     },
     "execution_count": 6,
     "metadata": {},
     "output_type": "execute_result"
    }
   ],
   "source": [
    "team_stats_df.columns.values"
   ]
  },
  {
   "cell_type": "code",
   "execution_count": 11,
   "metadata": {
    "collapsed": false
   },
   "outputs": [],
   "source": [
    "team_stuff = [\n",
    "                'tds',\n",
    "                'punts',\n",
    "                'kickoff_in_20', \n",
    "                'kickoff_touchback',\n",
    "                'fg_yds',\n",
    "                'fg_made',\n",
    "                'fg_miss',\n",
    "                'score_prev_4',\n",
    "                'opp_score_prev_4', \n",
    "                'tds_prev_4',  \n",
    "                'kickoffs_prev_4', \n",
    "                'punts_prev_4',\n",
    "                'fg_miss_prev_4', \n",
    "                'kickoff_in_20_prev_4',\n",
    "                'kickoff_touchback_prev_4', \n",
    "                'fg_yds_prev_4', \n",
    "                'fg_made_prev_4',\n",
    "                'includes_preseason'\n",
    "            ]\n",
    "\n",
    "team_kick = team_stats_df[team_stuff].copy()\n",
    "team_kick.columns = [ 'team_'+x for x in team_kick.columns.values ]\n",
    "team_kick['team'] = team_stats_df['team'].copy()\n",
    "team_kick['week'] = team_stats_df['week'].copy()\n",
    "team_kick['year'] = team_stats_df['year'].copy()"
   ]
  },
  {
   "cell_type": "code",
   "execution_count": 12,
   "metadata": {
    "collapsed": false
   },
   "outputs": [
    {
     "data": {
      "text/html": [
       "<div>\n",
       "<style>\n",
       "    .dataframe thead tr:only-child th {\n",
       "        text-align: right;\n",
       "    }\n",
       "\n",
       "    .dataframe thead th {\n",
       "        text-align: left;\n",
       "    }\n",
       "\n",
       "    .dataframe tbody tr th {\n",
       "        vertical-align: top;\n",
       "    }\n",
       "</style>\n",
       "<table border=\"1\" class=\"dataframe\">\n",
       "  <thead>\n",
       "    <tr style=\"text-align: right;\">\n",
       "      <th></th>\n",
       "      <th>team_tds</th>\n",
       "      <th>team_punts</th>\n",
       "      <th>team_kickoff_in_20</th>\n",
       "      <th>team_kickoff_touchback</th>\n",
       "      <th>team_fg_yds</th>\n",
       "      <th>team_fg_made</th>\n",
       "      <th>team_fg_miss</th>\n",
       "      <th>team_score_prev_4</th>\n",
       "      <th>team_opp_score_prev_4</th>\n",
       "      <th>team_tds_prev_4</th>\n",
       "      <th>...</th>\n",
       "      <th>team_punts_prev_4</th>\n",
       "      <th>team_fg_miss_prev_4</th>\n",
       "      <th>team_kickoff_in_20_prev_4</th>\n",
       "      <th>team_kickoff_touchback_prev_4</th>\n",
       "      <th>team_fg_yds_prev_4</th>\n",
       "      <th>team_fg_made_prev_4</th>\n",
       "      <th>team_includes_preseason</th>\n",
       "      <th>team</th>\n",
       "      <th>week</th>\n",
       "      <th>year</th>\n",
       "    </tr>\n",
       "  </thead>\n",
       "  <tbody>\n",
       "    <tr>\n",
       "      <th>1036</th>\n",
       "      <td>1</td>\n",
       "      <td>6</td>\n",
       "      <td>1</td>\n",
       "      <td>2</td>\n",
       "      <td>116</td>\n",
       "      <td>3</td>\n",
       "      <td>0</td>\n",
       "      <td>53.0</td>\n",
       "      <td>100.0</td>\n",
       "      <td>6.0</td>\n",
       "      <td>...</td>\n",
       "      <td>17.0</td>\n",
       "      <td>0.0</td>\n",
       "      <td>2.0</td>\n",
       "      <td>2.0</td>\n",
       "      <td>126.0</td>\n",
       "      <td>4.0</td>\n",
       "      <td>1</td>\n",
       "      <td>ARI</td>\n",
       "      <td>1</td>\n",
       "      <td>2009</td>\n",
       "    </tr>\n",
       "    <tr>\n",
       "      <th>1037</th>\n",
       "      <td>4</td>\n",
       "      <td>3</td>\n",
       "      <td>1</td>\n",
       "      <td>2</td>\n",
       "      <td>45</td>\n",
       "      <td>1</td>\n",
       "      <td>1</td>\n",
       "      <td>59.0</td>\n",
       "      <td>100.0</td>\n",
       "      <td>6.0</td>\n",
       "      <td>...</td>\n",
       "      <td>17.0</td>\n",
       "      <td>0.0</td>\n",
       "      <td>3.0</td>\n",
       "      <td>3.0</td>\n",
       "      <td>213.0</td>\n",
       "      <td>6.0</td>\n",
       "      <td>1</td>\n",
       "      <td>ARI</td>\n",
       "      <td>2</td>\n",
       "      <td>2009</td>\n",
       "    </tr>\n",
       "    <tr>\n",
       "      <th>1038</th>\n",
       "      <td>1</td>\n",
       "      <td>6</td>\n",
       "      <td>0</td>\n",
       "      <td>2</td>\n",
       "      <td>38</td>\n",
       "      <td>1</td>\n",
       "      <td>0</td>\n",
       "      <td>84.0</td>\n",
       "      <td>100.0</td>\n",
       "      <td>10.0</td>\n",
       "      <td>...</td>\n",
       "      <td>17.0</td>\n",
       "      <td>1.0</td>\n",
       "      <td>2.0</td>\n",
       "      <td>5.0</td>\n",
       "      <td>190.0</td>\n",
       "      <td>5.0</td>\n",
       "      <td>1</td>\n",
       "      <td>ARI</td>\n",
       "      <td>3</td>\n",
       "      <td>2009</td>\n",
       "    </tr>\n",
       "    <tr>\n",
       "      <th>1039</th>\n",
       "      <td>4</td>\n",
       "      <td>7</td>\n",
       "      <td>0</td>\n",
       "      <td>1</td>\n",
       "      <td>0</td>\n",
       "      <td>0</td>\n",
       "      <td>0</td>\n",
       "      <td>57.0</td>\n",
       "      <td>87.0</td>\n",
       "      <td>6.0</td>\n",
       "      <td>...</td>\n",
       "      <td>22.0</td>\n",
       "      <td>1.0</td>\n",
       "      <td>2.0</td>\n",
       "      <td>6.0</td>\n",
       "      <td>199.0</td>\n",
       "      <td>5.0</td>\n",
       "      <td>1</td>\n",
       "      <td>ARI</td>\n",
       "      <td>5</td>\n",
       "      <td>2009</td>\n",
       "    </tr>\n",
       "    <tr>\n",
       "      <th>1040</th>\n",
       "      <td>3</td>\n",
       "      <td>6</td>\n",
       "      <td>1</td>\n",
       "      <td>2</td>\n",
       "      <td>60</td>\n",
       "      <td>2</td>\n",
       "      <td>0</td>\n",
       "      <td>85.0</td>\n",
       "      <td>89.0</td>\n",
       "      <td>10.0</td>\n",
       "      <td>...</td>\n",
       "      <td>22.0</td>\n",
       "      <td>1.0</td>\n",
       "      <td>2.0</td>\n",
       "      <td>7.0</td>\n",
       "      <td>199.0</td>\n",
       "      <td>5.0</td>\n",
       "      <td>0</td>\n",
       "      <td>ARI</td>\n",
       "      <td>6</td>\n",
       "      <td>2009</td>\n",
       "    </tr>\n",
       "  </tbody>\n",
       "</table>\n",
       "<p>5 rows × 21 columns</p>\n",
       "</div>"
      ],
      "text/plain": [
       "      team_tds  team_punts  team_kickoff_in_20  team_kickoff_touchback  \\\n",
       "1036         1           6                   1                       2   \n",
       "1037         4           3                   1                       2   \n",
       "1038         1           6                   0                       2   \n",
       "1039         4           7                   0                       1   \n",
       "1040         3           6                   1                       2   \n",
       "\n",
       "      team_fg_yds  team_fg_made  team_fg_miss  team_score_prev_4  \\\n",
       "1036          116             3             0               53.0   \n",
       "1037           45             1             1               59.0   \n",
       "1038           38             1             0               84.0   \n",
       "1039            0             0             0               57.0   \n",
       "1040           60             2             0               85.0   \n",
       "\n",
       "      team_opp_score_prev_4  team_tds_prev_4  ...   team_punts_prev_4  \\\n",
       "1036                  100.0              6.0  ...                17.0   \n",
       "1037                  100.0              6.0  ...                17.0   \n",
       "1038                  100.0             10.0  ...                17.0   \n",
       "1039                   87.0              6.0  ...                22.0   \n",
       "1040                   89.0             10.0  ...                22.0   \n",
       "\n",
       "      team_fg_miss_prev_4  team_kickoff_in_20_prev_4  \\\n",
       "1036                  0.0                        2.0   \n",
       "1037                  0.0                        3.0   \n",
       "1038                  1.0                        2.0   \n",
       "1039                  1.0                        2.0   \n",
       "1040                  1.0                        2.0   \n",
       "\n",
       "      team_kickoff_touchback_prev_4  team_fg_yds_prev_4  team_fg_made_prev_4  \\\n",
       "1036                            2.0               126.0                  4.0   \n",
       "1037                            3.0               213.0                  6.0   \n",
       "1038                            5.0               190.0                  5.0   \n",
       "1039                            6.0               199.0                  5.0   \n",
       "1040                            7.0               199.0                  5.0   \n",
       "\n",
       "      team_includes_preseason  team week  year  \n",
       "1036                        1   ARI    1  2009  \n",
       "1037                        1   ARI    2  2009  \n",
       "1038                        1   ARI    3  2009  \n",
       "1039                        1   ARI    5  2009  \n",
       "1040                        0   ARI    6  2009  \n",
       "\n",
       "[5 rows x 21 columns]"
      ]
     },
     "execution_count": 12,
     "metadata": {},
     "output_type": "execute_result"
    }
   ],
   "source": [
    "team_kick.head()"
   ]
  },
  {
   "cell_type": "code",
   "execution_count": null,
   "metadata": {
    "collapsed": true
   },
   "outputs": [],
   "source": []
  },
  {
   "cell_type": "code",
   "execution_count": 13,
   "metadata": {
    "collapsed": true
   },
   "outputs": [],
   "source": [
    "k_team_comb = pd.merge( all_kicker_data, team_kick, on=['team','week','year'] )"
   ]
  },
  {
   "cell_type": "code",
   "execution_count": null,
   "metadata": {
    "collapsed": true
   },
   "outputs": [],
   "source": []
  }
 ],
 "metadata": {
  "kernelspec": {
   "display_name": "Python 2",
   "language": "python",
   "name": "python2"
  },
  "language_info": {
   "codemirror_mode": {
    "name": "ipython",
    "version": 2
   },
   "file_extension": ".py",
   "mimetype": "text/x-python",
   "name": "python",
   "nbconvert_exporter": "python",
   "pygments_lexer": "ipython2",
   "version": "2.7.13"
  }
 },
 "nbformat": 4,
 "nbformat_minor": 2
}
