{
 "cells": [
  {
   "cell_type": "code",
   "execution_count": 2,
   "metadata": {
    "collapsed": false
   },
   "outputs": [],
   "source": [
    "import numpy as np\n",
    "import pandas as pd\n",
    "\n",
    "import seaborn as sns\n",
    "import matplotlib.pyplot as plt\n",
    "\n",
    "from imp import load_source\n",
    "\n",
    "aps = load_source(  'aggregate_player_stats', '../exploration/aggregate_player_stats.py' )\n",
    "nps = load_source(  'normalize_player_stats', '../normalization/normalize_player_stats.py' )\n",
    "\n",
    "%matplotlib inline\n",
    "\n",
    "plt.rcParams['figure.figsize'] = (14,10)\n",
    "plt.style.use('dark_background')"
   ]
  },
  {
   "cell_type": "code",
   "execution_count": 31,
   "metadata": {
    "collapsed": false
   },
   "outputs": [],
   "source": [
    "position = 'QB'\n",
    "n_weeks  = 4\n",
    "end_year = 2017\n",
    "\n",
    "my_df = aps.generate_player_features( end_year, position, n_weeks=n_weeks )"
   ]
  },
  {
   "cell_type": "code",
   "execution_count": 8,
   "metadata": {
    "collapsed": true
   },
   "outputs": [],
   "source": [
    "target_variables = [\n",
    "                    'rush_yds',\n",
    "                    'rush_tds',\n",
    "                    'pass_yds',\n",
    "                    'pass_tds',\n",
    "                    'turnovers'\n",
    "                   ]\n",
    "\n",
    "meta_info     = [\n",
    "                 'player_id',\n",
    "                 'team',\n",
    "                 'week',\n",
    "                 'year',\n",
    "                 'team_home_frac_prev_4',\n",
    "                 'few_reg_weeks'\n",
    "                ]\n",
    "\n",
    "\n",
    "player_scales = [\n",
    "                 'pass_complete_prev_4',\n",
    "                 'pass_incomplete_prev_4',\n",
    "                 'pass_air_yds_prev_4',\n",
    "                 'pass_air_yds_max_prev_4',\n",
    "                 'pass_yds_prev_4',\n",
    "                 'pass_att_prev_4'\n",
    "                ]\n",
    "\n",
    "player_norms = [\n",
    "                'pass_int_prev_4',\n",
    "                'pass_tds_prev_4',\n",
    "                'rush_yds_prev_4',\n",
    "                'rush_tds_prev_4',\n",
    "                'rush_att_prev_4'\n",
    "                ]\n",
    "\n",
    "fumb_features    = [\n",
    "                    'fumb_lost_prev_4', \n",
    "                    'fumb_rec_prev_4', \n",
    "                    'fumb_forced_prev_4', \n",
    "                    'fumb_nforced_prev_4'\n",
    "                   ]\n",
    "\n",
    "team_features    = [\n",
    "                    'team_tds_prev_4',\n",
    "                    'team_fg_made_prev_4',\n",
    "                    'team_kickoffs_prev_4',\n",
    "                    'team_punts_prev_4'\n",
    "                   ]\n",
    "\n",
    "\n",
    "opp_features     = [\n",
    "                    'opp_avg_tds_prev_4', \n",
    "                    'opp_avg_fg_made_prev_4',\n",
    "                    'opp_avg_rush_yds_prev_4', \n",
    "                    'opp_avg_pass_yds_prev_4',\n",
    "                    'opp_avg_def_tkl_loss_prev_4', \n",
    "                    'opp_avg_def_sack_prev_4', \n",
    "                    'opp_avg_def_pass_def_prev_4'\n",
    "                   ]"
   ]
  },
  {
   "cell_type": "code",
   "execution_count": 36,
   "metadata": {
    "collapsed": true
   },
   "outputs": [],
   "source": [
    "# Make turnovers a feature\n",
    "temp_df = my_df.copy()\n",
    "\n",
    "temp_df['turnovers'] = temp_df['pass_int']+temp_df['fumb_lost']\n",
    "temp_df = temp_df.drop( ['pass_int','fumb_lost'], axis=1 )\n",
    "\n",
    "# Not calc the frac of home games\n",
    "temp_df['team_home_frac_prev_4'] = temp_df['team_home_flag_prev_4'] / \\\n",
    "                                  (temp_df['team_home_flag_prev_4'] +\n",
    "                                   temp_df['team_away_flag_prev_4'] +\n",
    "                                   0.                               )\n",
    "temp_df = temp_df.drop( ['team_home_flag_prev_4','team_away_flag_prev_4'], axis=1 )"
   ]
  },
  {
   "cell_type": "code",
   "execution_count": 74,
   "metadata": {
    "collapsed": true
   },
   "outputs": [],
   "source": [
    "# Let's start by training\n",
    "#  on all data pre-2016\n",
    "# Apparently 2017 preseason data missing from the db\n",
    "my_train_data = temp_df.loc[ my_df['year']< 2016 ].reset_index()\n",
    "my_test_data  = temp_df.loc[ my_df['year']>=2016 ].reset_index()"
   ]
  },
  {
   "cell_type": "code",
   "execution_count": 78,
   "metadata": {
    "collapsed": false,
    "scrolled": false
   },
   "outputs": [],
   "source": [
    "# Dictionary to save normalization data in\n",
    "norm_dict = {}\n",
    "\n",
    "# Do seperately\n",
    "df_list = [\n",
    "            my_train_data,\n",
    "            my_test_data\n",
    "          ]\n",
    "\n",
    "out_df_list = []\n",
    "\n",
    "# By looping over these,\n",
    "#  will set data using train data,\n",
    "#  then apply stuff to test data\n",
    "# Adds then uses values from the dict\n",
    "for frame in df_list:\n",
    "    \n",
    "    \n",
    "    # Grab some normalized fumble features\n",
    "    fumb_junk = nps.fumb_normalization( \n",
    "                                        frame, \n",
    "                                        fumb_features,\n",
    "                                        new_dict\n",
    "                                      )\n",
    "    \n",
    "    # Some normalized team features\n",
    "    team_junk = nps.team_normalization( \n",
    "                                        frame,\n",
    "                                        team_features,\n",
    "                                        norm_dict,\n",
    "                                        'team_fg_miss_prev_4'\n",
    "                                      )\n",
    "    \n",
    "    # Some opposing team features\n",
    "    opp_junk = nps.opp_normalization( \n",
    "                                      frame,\n",
    "                                      opp_features,\n",
    "                                      norm_dict\n",
    "                                    )\n",
    "    \n",
    "    # The QB features\n",
    "    qb_junk = nps.qb_normalization(\n",
    "                                    frame,\n",
    "                                    player_norms,\n",
    "                                    player_scales,\n",
    "                                    norm_dict\n",
    "                                  )\n",
    "    \n",
    "    # What we will output\n",
    "    new_frame = frame[meta_info+target_variables].reset_index()\n",
    "\n",
    "    # Combine all the stuff into 1 frame\n",
    "    out_df_list.append(\n",
    "                        pd.concat( [\n",
    "                                    new_frame,\n",
    "                                    qb_junk,\n",
    "                                    fumb_junk,\n",
    "                                    team_junk,\n",
    "                                    opp_junk\n",
    "                                   ], axis=1).copy()\n",
    "                      )\n",
    "    \n",
    "    \n",
    "train_norm_data = out_df_list[0].copy()\n",
    "test_norm_data  = out_df_list[1].copy()\n",
    "out_df_list     = 0"
   ]
  },
  {
   "cell_type": "code",
   "execution_count": null,
   "metadata": {
    "collapsed": true
   },
   "outputs": [],
   "source": []
  }
 ],
 "metadata": {
  "kernelspec": {
   "display_name": "Python 2",
   "language": "python",
   "name": "python2"
  },
  "language_info": {
   "codemirror_mode": {
    "name": "ipython",
    "version": 2
   },
   "file_extension": ".py",
   "mimetype": "text/x-python",
   "name": "python",
   "nbconvert_exporter": "python",
   "pygments_lexer": "ipython2",
   "version": "2.7.13"
  }
 },
 "nbformat": 4,
 "nbformat_minor": 2
}
