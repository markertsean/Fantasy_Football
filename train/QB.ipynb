{
 "cells": [
  {
   "cell_type": "code",
   "execution_count": 1,
   "metadata": {
    "collapsed": false
   },
   "outputs": [],
   "source": [
    "import numpy as np\n",
    "import pandas as pd\n",
    "\n",
    "import seaborn as sns\n",
    "import matplotlib.pyplot as plt\n",
    "\n",
    "from imp import load_source\n",
    "\n",
    "aps = load_source(  'aggregate_player_stats', '../exploration/aggregate_player_stats.py' )\n",
    "nps = load_source(  'normalize_player_stats', '../normalization/normalize_player_stats.py' )\n",
    "\n",
    "%matplotlib inline\n",
    "\n",
    "plt.rcParams['figure.figsize'] = (14,10)\n",
    "plt.style.use('dark_background')"
   ]
  },
  {
   "cell_type": "code",
   "execution_count": 2,
   "metadata": {
    "collapsed": false
   },
   "outputs": [],
   "source": [
    "position = 'QB'\n",
    "n_weeks  = 4\n",
    "end_year = 2017\n",
    "\n",
    "my_df = aps.generate_player_features( end_year, position, n_weeks=n_weeks )"
   ]
  },
  {
   "cell_type": "code",
   "execution_count": 3,
   "metadata": {
    "collapsed": true
   },
   "outputs": [],
   "source": [
    "target_variables = [\n",
    "                    'rush_yds',\n",
    "                    'rush_tds',\n",
    "                    'pass_yds',\n",
    "                    'pass_tds',\n",
    "                    'turnovers'\n",
    "                   ]\n",
    "\n",
    "meta_info     = [\n",
    "                 'player_id',\n",
    "                 'team',\n",
    "                 'week',\n",
    "                 'year',\n",
    "                 'team_home_frac_prev_4',\n",
    "                 'few_reg_weeks'\n",
    "                ]\n",
    "\n",
    "\n",
    "player_scales = [\n",
    "                 'pass_complete_prev_4',\n",
    "                 'pass_incomplete_prev_4',\n",
    "                 'pass_air_yds_prev_4',\n",
    "                 'pass_air_yds_max_prev_4',\n",
    "                 'pass_yds_prev_4',\n",
    "                 'pass_att_prev_4'\n",
    "                ]\n",
    "\n",
    "player_norms = [\n",
    "                'pass_int_prev_4',\n",
    "                'pass_tds_prev_4',\n",
    "                'rush_yds_prev_4',\n",
    "                'rush_tds_prev_4',\n",
    "                'rush_att_prev_4'\n",
    "                ]\n",
    "\n",
    "fumb_features    = [\n",
    "                    'fumb_lost_prev_4', \n",
    "                    'fumb_rec_prev_4', \n",
    "                    'fumb_forced_prev_4', \n",
    "                    'fumb_nforced_prev_4'\n",
    "                   ]\n",
    "\n",
    "team_features    = [\n",
    "                    'team_tds_prev_4',\n",
    "                    'team_fg_made_prev_4',\n",
    "                    'team_kickoffs_prev_4',\n",
    "                    'team_punts_prev_4'\n",
    "                   ]\n",
    "\n",
    "\n",
    "opp_features     = [\n",
    "                    'opp_avg_tds_prev_4', \n",
    "                    'opp_avg_fg_made_prev_4',\n",
    "                    'opp_avg_rush_yds_prev_4', \n",
    "                    'opp_avg_pass_yds_prev_4',\n",
    "                    'opp_avg_def_tkl_loss_prev_4', \n",
    "                    'opp_avg_def_sack_prev_4', \n",
    "                    'opp_avg_def_pass_def_prev_4'\n",
    "                   ]"
   ]
  },
  {
   "cell_type": "code",
   "execution_count": 4,
   "metadata": {
    "collapsed": true
   },
   "outputs": [],
   "source": [
    "# Make turnovers a feature\n",
    "temp_df = my_df.copy()\n",
    "\n",
    "temp_df['turnovers'] = temp_df['pass_int']+temp_df['fumb_lost']\n",
    "temp_df = temp_df.drop( ['pass_int','fumb_lost'], axis=1 )\n",
    "\n",
    "# Not calc the frac of home games\n",
    "temp_df['team_home_frac_prev_4'] = temp_df['team_home_flag_prev_4'] / \\\n",
    "                                  (temp_df['team_home_flag_prev_4'] +\n",
    "                                   temp_df['team_away_flag_prev_4'] +\n",
    "                                   0.                               )\n",
    "temp_df = temp_df.drop( ['team_home_flag_prev_4','team_away_flag_prev_4'], axis=1 )"
   ]
  },
  {
   "cell_type": "code",
   "execution_count": 5,
   "metadata": {
    "collapsed": true
   },
   "outputs": [],
   "source": [
    "# Let's start by training\n",
    "#  on all data pre-2016\n",
    "# Apparently 2017 preseason data missing from the db\n",
    "my_train_data = temp_df.loc[ my_df['year']< 2016 ].reset_index().drop( 'index', axis=1 )\n",
    "my_test_data  = temp_df.loc[ my_df['year']>=2016 ].reset_index().drop( 'index', axis=1 )"
   ]
  },
  {
   "cell_type": "code",
   "execution_count": 7,
   "metadata": {
    "collapsed": false,
    "scrolled": false
   },
   "outputs": [],
   "source": [
    "# Dictionary to save normalization data in\n",
    "norm_dict = {}\n",
    "\n",
    "# Do seperately\n",
    "df_list = [\n",
    "            my_train_data,\n",
    "            my_test_data\n",
    "          ]\n",
    "\n",
    "out_df_list = []\n",
    "\n",
    "# By looping over these,\n",
    "#  will set data using train data,\n",
    "#  then apply stuff to test data\n",
    "# Adds then uses values from the dict\n",
    "for frame in df_list:\n",
    "    \n",
    "    \n",
    "    # Grab some normalized fumble features\n",
    "    fumb_junk = nps.fumb_normalization( \n",
    "                                        frame, \n",
    "                                        fumb_features,\n",
    "                                        norm_dict\n",
    "                                      )\n",
    "    \n",
    "    # Some normalized team features\n",
    "    team_junk = nps.team_normalization( \n",
    "                                        frame,\n",
    "                                        team_features,\n",
    "                                        norm_dict,\n",
    "                                        'team_fg_miss_prev_4'\n",
    "                                      )\n",
    "    \n",
    "    # Some opposing team features\n",
    "    opp_junk = nps.opp_normalization( \n",
    "                                      frame,\n",
    "                                      opp_features,\n",
    "                                      norm_dict\n",
    "                                    )\n",
    "    \n",
    "    # The QB features\n",
    "    qb_junk = nps.qb_normalization(\n",
    "                                    frame,\n",
    "                                    player_norms,\n",
    "                                    player_scales,\n",
    "                                    norm_dict\n",
    "                                  )\n",
    "    \n",
    "    # What we will output\n",
    "    new_frame = frame[meta_info+target_variables]\n",
    "\n",
    "    # Combine all the stuff into 1 frame\n",
    "    out_df_list.append(\n",
    "                        pd.concat( [\n",
    "                                    new_frame,\n",
    "                                    qb_junk,\n",
    "                                    fumb_junk,\n",
    "                                    team_junk,\n",
    "                                    opp_junk\n",
    "                                   ], axis=1).copy()\n",
    "                      )\n",
    "    \n",
    "    \n",
    "train_norm_data = out_df_list[0].copy()\n",
    "test_norm_data  = out_df_list[1].copy()\n",
    "out_df_list     = 0"
   ]
  },
  {
   "cell_type": "code",
   "execution_count": 20,
   "metadata": {
    "collapsed": false
   },
   "outputs": [
    {
     "name": "stdout",
     "output_type": "stream",
     "text": [
      "Index([                     u'player_id',                           u'team',\n",
      "                                 u'week',                           u'year',\n",
      "                u'team_home_frac_prev_4',                  u'few_reg_weeks',\n",
      "                             u'rush_yds',                       u'rush_tds',\n",
      "                             u'pass_yds',                       u'pass_tds',\n",
      "                            u'turnovers',    u'pass_complete_prev_4_scaled',\n",
      "        u'pass_incomplete_prev_4_scaled',     u'pass_air_yds_prev_4_scaled',\n",
      "       u'pass_air_yds_max_prev_4_scaled',         u'pass_yds_prev_4_scaled',\n",
      "               u'pass_att_prev_4_scaled',           u'pass_int_prev_4_norm',\n",
      "                 u'pass_tds_prev_4_norm',           u'rush_yds_prev_4_norm',\n",
      "                 u'rush_tds_prev_4_norm',           u'rush_att_prev_4_norm',\n",
      "                      u'fumb_pca_0_norm',           u'fumb_pca_1_bc_scaled',\n",
      "                    u'team_pca_0_scaled',              u'team_pca_1_scaled',\n",
      "           u'team_fg_miss_prev_4_scaled',               u'opp_pca_0_scaled',\n",
      "                     u'opp_pca_1_scaled',               u'opp_pca_2_scaled',\n",
      "                     u'opp_pca_3_scaled'],\n",
      "      dtype='object')\n",
      "['pass_complete_prev_4_scaled', 'pass_incomplete_prev_4_scaled', 'pass_air_yds_prev_4_scaled', 'pass_air_yds_max_prev_4_scaled', 'pass_yds_prev_4_scaled', 'pass_att_prev_4_scaled', 'pass_int_prev_4_norm', 'pass_tds_prev_4_norm', 'rush_yds_prev_4_norm', 'rush_tds_prev_4_norm', 'rush_att_prev_4_norm', 'fumb_pca_0_norm', 'fumb_pca_1_bc_scaled', 'team_pca_0_scaled', 'team_pca_1_scaled', 'team_fg_miss_prev_4_scaled', 'opp_pca_0_scaled', 'opp_pca_1_scaled', 'opp_pca_2_scaled', 'opp_pca_3_scaled', 'team_home_frac_prev_4', 'few_reg_weeks']\n",
      "[u'rush_yds', u'rush_tds', u'pass_yds', u'pass_tds', 'turnovers']\n"
     ]
    }
   ],
   "source": [
    "# 22 features\n",
    "features = test_norm_data.columns.values[11: ].tolist()+['team_home_frac_prev_4','few_reg_weeks']\n",
    "targets  = test_norm_data.columns.values[6:11].tolist()\n",
    "\n",
    "print test_norm_data.columns\n",
    "print features\n",
    "print targets"
   ]
  },
  {
   "cell_type": "code",
   "execution_count": null,
   "metadata": {
    "collapsed": true
   },
   "outputs": [],
   "source": []
  },
  {
   "cell_type": "code",
   "execution_count": 22,
   "metadata": {
    "collapsed": true
   },
   "outputs": [],
   "source": [
    "train_x, train_y = train_norm_data[features].values, train_norm_data[targets].values\n",
    "test_x ,  test_y =  test_norm_data[features].values,  test_norm_data[targets].values"
   ]
  },
  {
   "cell_type": "code",
   "execution_count": null,
   "metadata": {
    "collapsed": true
   },
   "outputs": [],
   "source": []
  },
  {
   "cell_type": "markdown",
   "metadata": {},
   "source": [
    "Let's pick some regressors. We will start with a linear regressor, lasso regressor, kneighbors, random forest, and neural network.\n",
    "\n",
    "We'll do a first round test, select the best, and fine tune from there"
   ]
  },
  {
   "cell_type": "code",
   "execution_count": 23,
   "metadata": {
    "collapsed": true
   },
   "outputs": [],
   "source": [
    "from sklearn.linear_model   import LinearRegression\n",
    "from sklearn.linear_model   import Lasso\n",
    "from sklearn.neighbors      import KNeighborsRegressor\n",
    "from sklearn.ensemble       import RandomForestRegressor\n",
    "from sklearn.neural_network import MLPRegressor\n",
    "from sklearn.multioutput    import MultiOutputRegressor"
   ]
  },
  {
   "cell_type": "code",
   "execution_count": null,
   "metadata": {
    "collapsed": true
   },
   "outputs": [],
   "source": []
  },
  {
   "cell_type": "code",
   "execution_count": 48,
   "metadata": {
    "collapsed": true
   },
   "outputs": [],
   "source": [
    "def f_rmse(pred, true, cols=['rush_yds', 'rush_tds', 'pass_yds', 'pass_tds', 'turnovers'] ):\n",
    "    print 'RMSE / Mean'\n",
    "    for i in range(0,pred.shape[1]):\n",
    "        print '%12s %8.6f' % ( cols[i], np.sqrt(((pred[:,i] - true[:,i]) ** 2).mean()/true[:,i].mean()) )\n",
    "\n",
    "def rmse(pred, true, cols=['rush_yds', 'rush_tds', 'pass_yds', 'pass_tds', 'turnovers'] ):\n",
    "    print 'RMSE'\n",
    "    for i in range(0,pred.shape[1]):\n",
    "        print '%12s %8.6f' % ( cols[i], np.sqrt(((pred[:,i] - true[:,i]) ** 2).mean()) )\n",
    "\n",
    "def r2( pred, true, cols=['rush_yds', 'rush_tds', 'pass_yds', 'pass_tds', 'turnovers'] ):\n",
    "    print 'R^2'\n",
    "    for i in range(0,pred.shape[1]):\n",
    "        y = true[:,i]\n",
    "        # fit values, and mean\n",
    "        yhat  = pred[:,i]                # or [p(z) for z in x]\n",
    "        ybar  = np.sum(y)/len(y)         # or sum(y)/len(y)\n",
    "        ssreg = np.sum((yhat-ybar)**2)   # or sum([ (yihat - ybar)**2 for yihat in yhat])\n",
    "        sstot = np.sum((y - ybar)**2)    # or sum([ (yi - ybar)**2 for yi in y])\n",
    "        print '%12s %8.6f' % ( cols[i], ssreg / sstot )\n",
    "        \n",
    "def reg_test( reg, train_x, train_y, test_x, test_y ):\n",
    "    reg.fit( train_x, train_y )\n",
    "    print 'Train Data:'\n",
    "    r2    ( reg.predict( train_x ), train_y )\n",
    "    rmse  ( reg.predict( train_x ), train_y )\n",
    "    f_rmse( reg.predict( train_x ), train_y )\n",
    "    print 'Test Data:'\n",
    "    r2    ( reg.predict( test_x ), test_y )\n",
    "    rmse  ( reg.predict( test_x ), test_y )\n",
    "    f_rmse( reg.predict( test_x ), test_y )"
   ]
  },
  {
   "cell_type": "code",
   "execution_count": 49,
   "metadata": {
    "collapsed": true
   },
   "outputs": [
    {
     "name": "stdout",
     "output_type": "stream",
     "text": [
      "Train Data:\n",
      "R^2\n",
      "    rush_yds 0.292341\n",
      "    rush_tds 0.129421\n",
      "    pass_yds 0.228142\n",
      "    pass_tds 0.204728\n",
      "   turnovers 0.490472\n",
      "RMSE\n",
      "    rush_yds 13.649761\n",
      "    rush_tds 0.316666\n",
      "    pass_yds 87.437261\n",
      "    pass_tds 1.115000\n",
      "   turnovers 1.037269\n",
      "RMSE / Mean\n",
      "    rush_yds 4.226339\n",
      "    rush_tds 1.003342\n",
      "    pass_yds 5.844997\n",
      "    pass_tds 0.940475\n",
      "   turnovers 1.037943\n",
      "Test Data:\n",
      "R^2\n",
      "    rush_yds 0.281544\n",
      "    rush_tds 0.126949\n",
      "    pass_yds 0.243890\n",
      "    pass_tds 0.235514\n",
      "   turnovers 0.601460\n",
      "RMSE\n",
      "    rush_yds 13.375058\n",
      "    rush_tds 0.309055\n",
      "    pass_yds 89.049972\n",
      "    pass_tds 1.136814\n",
      "   turnovers 1.003558\n",
      "RMSE / Mean\n",
      "    rush_yds 4.215560\n",
      "    rush_tds 0.935178\n",
      "    pass_yds 6.009531\n",
      "    pass_tds 0.991728\n",
      "   turnovers 1.075737\n"
     ]
    }
   ],
   "source": [
    "m_lin_reg = MultiOutputRegressor( LinearRegression() )\n",
    "\n",
    "reg_test( m_lin_reg, train_x, train_y, test_x, test_y )"
   ]
  },
  {
   "cell_type": "code",
   "execution_count": 50,
   "metadata": {
    "collapsed": true
   },
   "outputs": [
    {
     "name": "stdout",
     "output_type": "stream",
     "text": [
      "Train Data:\n",
      "R^2\n",
      "    rush_yds 0.266485\n",
      "    rush_tds 0.086142\n",
      "    pass_yds 0.223650\n",
      "    pass_tds 0.140899\n",
      "   turnovers 0.472541\n",
      "RMSE\n",
      "    rush_yds 13.664349\n",
      "    rush_tds 0.324442\n",
      "    pass_yds 87.445550\n",
      "    pass_tds 1.138090\n",
      "   turnovers 1.053303\n",
      "RMSE / Mean\n",
      "    rush_yds 4.230856\n",
      "    rush_tds 1.027979\n",
      "    pass_yds 5.845551\n",
      "    pass_tds 0.959950\n",
      "   turnovers 1.053987\n",
      "Test Data:\n",
      "R^2\n",
      "    rush_yds 0.253503\n",
      "    rush_tds 0.088098\n",
      "    pass_yds 0.239737\n",
      "    pass_tds 0.154577\n",
      "   turnovers 0.568611\n",
      "RMSE\n",
      "    rush_yds 13.361294\n",
      "    rush_tds 0.317478\n",
      "    pass_yds 89.011303\n",
      "    pass_tds 1.131408\n",
      "   turnovers 1.001765\n",
      "RMSE / Mean\n",
      "    rush_yds 4.211222\n",
      "    rush_tds 0.960666\n",
      "    pass_yds 6.006921\n",
      "    pass_tds 0.987013\n",
      "   turnovers 1.073815\n"
     ]
    }
   ],
   "source": [
    "m_las_reg = MultiOutputRegressor( Lasso(alpha=0.1) )\n",
    "\n",
    "reg_test( m_las_reg, train_x, train_y, test_x, test_y )"
   ]
  },
  {
   "cell_type": "code",
   "execution_count": 53,
   "metadata": {
    "collapsed": true
   },
   "outputs": [
    {
     "name": "stdout",
     "output_type": "stream",
     "text": [
      "Train Data:\n",
      "R^2\n",
      "    rush_yds 0.304416\n",
      "    rush_tds 0.275155\n",
      "    pass_yds 0.360879\n",
      "    pass_tds 0.347680\n",
      "   turnovers 0.577357\n",
      "RMSE\n",
      "    rush_yds 12.523065\n",
      "    rush_tds 0.281762\n",
      "    pass_yds 76.821720\n",
      "    pass_tds 0.999922\n",
      "   turnovers 0.931711\n",
      "RMSE / Mean\n",
      "    rush_yds 3.877484\n",
      "    rush_tds 0.892750\n",
      "    pass_yds 5.135371\n",
      "    pass_tds 0.843409\n",
      "   turnovers 0.932316\n",
      "Test Data:\n",
      "R^2\n",
      "    rush_yds 0.207477\n",
      "    rush_tds 0.204242\n",
      "    pass_yds 0.369875\n",
      "    pass_tds 0.377044\n",
      "   turnovers 0.718558\n",
      "RMSE\n",
      "    rush_yds 15.664416\n",
      "    rush_tds 0.346312\n",
      "    pass_yds 94.378042\n",
      "    pass_tds 1.234404\n",
      "   turnovers 1.062902\n",
      "RMSE / Mean\n",
      "    rush_yds 4.937121\n",
      "    rush_tds 1.047915\n",
      "    pass_yds 6.369095\n",
      "    pass_tds 1.076864\n",
      "   turnovers 1.139350\n"
     ]
    }
   ],
   "source": [
    "m_knn_reg = MultiOutputRegressor( KNeighborsRegressor(n_neighbors=5) )\n",
    "\n",
    "reg_test( m_knn_reg, train_x, train_y, test_x, test_y )"
   ]
  },
  {
   "cell_type": "code",
   "execution_count": 54,
   "metadata": {
    "collapsed": true
   },
   "outputs": [
    {
     "name": "stdout",
     "output_type": "stream",
     "text": [
      "Train Data:\n",
      "R^2\n",
      "    rush_yds 0.633126\n",
      "    rush_tds 0.548732\n",
      "    pass_yds 0.598202\n",
      "    pass_tds 0.579705\n",
      "   turnovers 0.750579\n",
      "RMSE\n",
      "    rush_yds 6.078632\n",
      "    rush_tds 0.142746\n",
      "    pass_yds 38.278503\n",
      "    pass_tds 0.500752\n",
      "   turnovers 0.474930\n",
      "RMSE / Mean\n",
      "    rush_yds 1.882111\n",
      "    rush_tds 0.452283\n",
      "    pass_yds 2.558838\n",
      "    pass_tds 0.422372\n",
      "   turnovers 0.475238\n",
      "Test Data:\n",
      "R^2\n",
      "    rush_yds 0.373325\n",
      "    rush_tds 0.321818\n",
      "    pass_yds 0.356308\n",
      "    pass_tds 0.365393\n",
      "   turnovers 0.761725\n",
      "RMSE\n",
      "    rush_yds 13.953703\n",
      "    rush_tds 0.333663\n",
      "    pass_yds 91.250800\n",
      "    pass_tds 1.189136\n",
      "   turnovers 1.066180\n",
      "RMSE / Mean\n",
      "    rush_yds 4.397938\n",
      "    rush_tds 1.009641\n",
      "    pass_yds 6.158054\n",
      "    pass_tds 1.037373\n",
      "   turnovers 1.142864\n"
     ]
    }
   ],
   "source": [
    "m_rfr_reg = MultiOutputRegressor( RandomForestRegressor() )\n",
    "\n",
    "reg_test( m_rfr_reg, train_x, train_y, test_x, test_y )"
   ]
  },
  {
   "cell_type": "code",
   "execution_count": 55,
   "metadata": {
    "collapsed": true
   },
   "outputs": [
    {
     "name": "stderr",
     "output_type": "stream",
     "text": [
      "/home/sean/anaconda/lib/python2.7/site-packages/sklearn/neural_network/multilayer_perceptron.py:564: ConvergenceWarning: Stochastic Optimizer: Maximum iterations (200) reached and the optimization hasn't converged yet.\n",
      "  % self.max_iter, ConvergenceWarning)\n"
     ]
    },
    {
     "name": "stdout",
     "output_type": "stream",
     "text": [
      "Train Data:\n",
      "R^2\n",
      "    rush_yds 0.329583\n",
      "    rush_tds 0.215967\n",
      "    pass_yds 0.304003\n",
      "    pass_tds 0.293802\n",
      "   turnovers 0.521650\n",
      "RMSE\n",
      "    rush_yds 12.889805\n",
      "    rush_tds 0.293389\n",
      "    pass_yds 87.927998\n",
      "    pass_tds 0.989052\n",
      "   turnovers 0.986554\n",
      "RMSE / Mean\n",
      "    rush_yds 3.991036\n",
      "    rush_tds 0.929588\n",
      "    pass_yds 5.877802\n",
      "    pass_tds 0.834240\n",
      "   turnovers 0.987195\n",
      "Test Data:\n",
      "R^2\n",
      "    rush_yds 0.298279\n",
      "    rush_tds 0.216371\n",
      "    pass_yds 0.322303\n",
      "    pass_tds 0.342163\n",
      "   turnovers 0.667371\n",
      "RMSE\n",
      "    rush_yds 13.747338\n",
      "    rush_tds 0.320044\n",
      "    pass_yds 89.112013\n",
      "    pass_tds 1.183359\n",
      "   turnovers 1.014069\n",
      "RMSE / Mean\n",
      "    rush_yds 4.332896\n",
      "    rush_tds 0.968430\n",
      "    pass_yds 6.013718\n",
      "    pass_tds 1.032333\n",
      "   turnovers 1.087004\n"
     ]
    }
   ],
   "source": [
    "m_mlp_reg = MultiOutputRegressor( MLPRegressor() )\n",
    "\n",
    "reg_test( m_mlp_reg, train_x, train_y, test_x, test_y )"
   ]
  },
  {
   "cell_type": "code",
   "execution_count": 59,
   "metadata": {
    "collapsed": true
   },
   "outputs": [
    {
     "name": "stdout",
     "output_type": "stream",
     "text": [
      "Train Data:\n",
      "R^2\n",
      "    rush_yds 0.772037\n",
      "    rush_tds 0.796116\n",
      "    pass_yds 0.277563\n",
      "    pass_tds 0.657407\n",
      "   turnovers 0.890640\n",
      "RMSE\n",
      "    rush_yds 7.208881\n",
      "    rush_tds 0.092349\n",
      "    pass_yds 84.487716\n",
      "    pass_tds 0.589222\n",
      "   turnovers 0.449464\n",
      "RMSE / Mean\n",
      "    rush_yds 2.232067\n",
      "    rush_tds 0.292605\n",
      "    pass_yds 5.647827\n",
      "    pass_tds 0.496994\n",
      "   turnovers 0.449756\n",
      "Test Data:\n",
      "R^2\n",
      "    rush_yds 0.707615\n",
      "    rush_tds 0.351032\n",
      "    pass_yds 0.332959\n",
      "    pass_tds 0.762530\n",
      "   turnovers 1.228277\n",
      "RMSE\n",
      "    rush_yds 16.753861\n",
      "    rush_tds 0.362319\n",
      "    pass_yds 89.311024\n",
      "    pass_tds 1.410570\n",
      "   turnovers 1.400413\n",
      "RMSE / Mean\n",
      "    rush_yds 5.280494\n",
      "    rush_tds 1.096352\n",
      "    pass_yds 6.027148\n",
      "    pass_tds 1.230546\n",
      "   turnovers 1.501135\n"
     ]
    }
   ],
   "source": [
    "m_mlp_reg = MultiOutputRegressor( MLPRegressor( hidden_layer_sizes=(50,50,50,50,50,)) )\n",
    "\n",
    "reg_test( m_mlp_reg, train_x, train_y, test_x, test_y )"
   ]
  },
  {
   "cell_type": "code",
   "execution_count": null,
   "metadata": {
    "collapsed": true
   },
   "outputs": [],
   "source": []
  }
 ],
 "metadata": {
  "kernelspec": {
   "display_name": "Python 2",
   "language": "python",
   "name": "python2"
  },
  "language_info": {
   "codemirror_mode": {
    "name": "ipython",
    "version": 2
   },
   "file_extension": ".py",
   "mimetype": "text/x-python",
   "name": "python",
   "nbconvert_exporter": "python",
   "pygments_lexer": "ipython2",
   "version": "2.7.13"
  }
 },
 "nbformat": 4,
 "nbformat_minor": 2
}
